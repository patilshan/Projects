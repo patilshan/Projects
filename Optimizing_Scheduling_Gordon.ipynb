{
  "cells": [
    {
      "cell_type": "markdown",
      "source": [
        "#Set-up"
      ],
      "metadata": {
        "id": "OqOxPVZDquTm"
      }
    },
    {
      "cell_type": "code",
      "execution_count": null,
      "metadata": {
        "id": "CHE6DnGnqT3M",
        "colab": {
          "base_uri": "https://localhost:8080/"
        },
        "outputId": "5d435150-d253-4c91-d71a-78572f7ffcaa"
      },
      "outputs": [
        {
          "output_type": "stream",
          "name": "stdout",
          "text": [
            "\u001b[K     |████████████████████████████████| 11.1 MB 5.3 MB/s \n",
            "\u001b[K     |████████████████████████████████| 49 kB 4.5 MB/s \n",
            "\u001b[?25hSelecting previously unselected package libsuitesparseconfig5:amd64.\n",
            "(Reading database ... 124016 files and directories currently installed.)\n",
            "Preparing to unpack .../libsuitesparseconfig5_1%3a5.1.2-2_amd64.deb ...\n",
            "Unpacking libsuitesparseconfig5:amd64 (1:5.1.2-2) ...\n",
            "Selecting previously unselected package libamd2:amd64.\n",
            "Preparing to unpack .../libamd2_1%3a5.1.2-2_amd64.deb ...\n",
            "Unpacking libamd2:amd64 (1:5.1.2-2) ...\n",
            "Selecting previously unselected package libcolamd2:amd64.\n",
            "Preparing to unpack .../libcolamd2_1%3a5.1.2-2_amd64.deb ...\n",
            "Unpacking libcolamd2:amd64 (1:5.1.2-2) ...\n",
            "Selecting previously unselected package libglpk40:amd64.\n",
            "Preparing to unpack .../libglpk40_4.65-1_amd64.deb ...\n",
            "Unpacking libglpk40:amd64 (4.65-1) ...\n",
            "Selecting previously unselected package glpk-utils.\n",
            "Preparing to unpack .../glpk-utils_4.65-1_amd64.deb ...\n",
            "Unpacking glpk-utils (4.65-1) ...\n",
            "Setting up libsuitesparseconfig5:amd64 (1:5.1.2-2) ...\n",
            "Setting up libcolamd2:amd64 (1:5.1.2-2) ...\n",
            "Setting up libamd2:amd64 (1:5.1.2-2) ...\n",
            "Setting up libglpk40:amd64 (4.65-1) ...\n",
            "Setting up glpk-utils (4.65-1) ...\n",
            "Processing triggers for libc-bin (2.27-3ubuntu1.6) ...\n",
            "Processing triggers for man-db (2.8.3-2ubuntu0.1) ...\n"
          ]
        }
      ],
      "source": [
        "#Copy-and-paste the code below to use as \"set-up\" when your optimization model uses Pyomo. \n",
        "#Uncomment the appropriate solver that you need.\n",
        "#for reference, see https://colab.research.google.com/drive/1yGk8RB5NXrcx9f1Tb-oCiWzbxh61hZLI?usp=sharing\n",
        "\n",
        "#installing and importing pyomo\n",
        "!pip install -q pyomo\n",
        "from pyomo.environ import *\n",
        "\n",
        "###installing and importing specific solvers (uncomment the one(s) you need)\n",
        "###glpk\n",
        "!apt-get install -y -qq glpk-utils\n",
        "###cbc\n",
        "#!apt-get install -y -qq coinor-cbc\n",
        "###ipopt\n",
        "#!wget -N -q \"https://ampl.com/dl/open/ipopt/ipopt-linux64.zip\"\n",
        "#!unzip -o -q ipopt-linux64\n",
        "###bonmin\n",
        "#!wget -N -q \"https://ampl.com/dl/open/bonmin/bonmin-linux64.zip\"\n",
        "#!unzip -o -q bonmin-linux64\n",
        "###couenne\n",
        "#!wget -N -q \"https://ampl.com/dl/open/couenne/couenne-linux64.zip\"\n",
        "#!unzip -o -q couenne-linux64\n",
        "###geocode\n",
        "#!wget -N -q \"https://ampl.com/dl/open/gecode/gecode-linux64.zip\"\n",
        "#!unzip -o -q gecode-linux64\n",
        "\n",
        "#Using the solvers:\n",
        "#SolverFactory('glpk', executable='/usr/bin/glpsol')\n",
        "#SolverFactory('cbc', executable='/usr/bin/cbc')\n",
        "#SolverFactory('ipopt', executable='/content/ipopt')\n",
        "#SolverFactory('bonmin', executable='/content/bonmin')\n",
        "#SolverFactory('couenne', executable='/content/couenne')\n",
        "#SolverFactory('gecode', executable='/content/gecode')"
      ]
    },
    {
      "cell_type": "markdown",
      "source": [
        "#Scheduling for Gordon's Dining and Event Center"
      ],
      "metadata": {
        "id": "qldn1laZqyP-"
      }
    },
    {
      "cell_type": "code",
      "source": [
        "import pandas as pd"
      ],
      "metadata": {
        "id": "1kQhod5dwOFb"
      },
      "execution_count": null,
      "outputs": []
    },
    {
      "cell_type": "code",
      "source": [
        "# reading csv file\n",
        "df = pd.read_excel('input data.xlsx')\n",
        "df\n",
        "\n",
        "# extracting name column from data set\n",
        "name_Cols = df['Name']"
      ],
      "metadata": {
        "id": "HhjYhoSJvsn_"
      },
      "execution_count": null,
      "outputs": []
    },
    {
      "cell_type": "code",
      "source": [
        "name_Cols"
      ],
      "metadata": {
        "id": "poDxUJaXSG-O"
      },
      "execution_count": null,
      "outputs": []
    },
    {
      "cell_type": "code",
      "source": [
        "# monday = df[\"\"].tolist()\n",
        "df = df.iloc[:, 1:]\n",
        "monday = df.values.tolist()\n",
        "monday\n",
        "len(monday)"
      ],
      "metadata": {
        "colab": {
          "base_uri": "https://localhost:8080/"
        },
        "id": "pZmE6Qh3sDWo",
        "outputId": "4f76bf5d-74a8-405a-8fbe-4601fe2eca26"
      },
      "execution_count": null,
      "outputs": [
        {
          "output_type": "execute_result",
          "data": {
            "text/plain": [
              "249"
            ]
          },
          "metadata": {},
          "execution_count": 5
        }
      ]
    },
    {
      "cell_type": "code",
      "source": [
        "#inputs\n",
        "num_workers = 249 #indexed with i\n",
        "num_days = 7 #indexed with j\n",
        "num_shifts = 3 #indexed with k\n",
        "num_week = 1\n",
        "\n",
        "min_workers_per_shift = 28\n",
        "max_shift_perweek = 5\n",
        "max_shifts_per_day = 1\n",
        "min_shifts_per_worker = 3\n",
        "max_closing_shifts = 2\n",
        "\n",
        "# attemplted to create model on fewer num_workers as suggested by prof.\n",
        "#num_working =[[0,1,0,0,1,0,1], [0,1,0,1,0,1,0], [1,0,1,0,1,0,0], [0,1,0,0,1,0,1], [0,1,0,1,0,1,0], [1,0,1,0,1,0,0], [0,0,1,1,1,0,0], [0,1,0,0,1,0,1], [0,1,0,1,0,1,0], [1,0,1,0,1,0,0], [0,1,0,0,1,0,1], [0,1,0,1,0,1,0], [1,0,1,0,1,0,0], [0,0,1,1,1,0,0]]\n",
        "#num_working[0]\n",
        "#len(num_working)\n",
        "#len(num_working[0])\n",
        "\n",
        "\n",
        "\n",
        "\n"
      ],
      "metadata": {
        "id": "BoFgqmWwvpfJ"
      },
      "execution_count": null,
      "outputs": []
    },
    {
      "cell_type": "markdown",
      "source": [
        "# Optimization"
      ],
      "metadata": {
        "id": "mCcPKCBV6rhu"
      }
    },
    {
      "cell_type": "code",
      "source": [
        "for i, inner_list in enumerate(monday):\n",
        "    for j, element in enumerate(inner_list):\n",
        "      if element !=0:\n",
        "        \n",
        "\n",
        "#optimization model\n",
        "        model = ConcreteModel() #create a model\n",
        "\n",
        "#declare the decision variables\n",
        "        model.x = Var(range(num_workers), range(num_days), range(num_shifts), domain=Binary) #model.x[i,j,k] is the DV for the ith worker on day j, shift k\n",
        "\n",
        "#Constraint: Each shift requires at least 28 student employees\n",
        "#for each day j\n",
        "    #for each shift k\n",
        "        #add a constraint that the sum across the student employees i >= 28\n",
        "        model.shiftshaveminworkers = ConstraintList()\n",
        "        for j in range(num_days): #for each day j\n",
        "              for k in range(num_shifts): #for each shift k\n",
        "                model.shiftshaveminworkers.add(expr = sum(model.x[i,j,k] for i in range(num_workers)) >= min_workers_per_shift)\n",
        "        \n",
        "#Constraint: no student employees works more than 1 shift per day\n",
        "#for each student employees i\n",
        "    #for each day j\n",
        "        #add a cosntraint that the sum across the shifts k is <= 1\n",
        "        model.maxshiftsperday = ConstraintList()\n",
        "        for i in range(num_workers):\n",
        "          for j in range(num_days):\n",
        "            model.maxshiftsperday.add(expr = sum(model.x[i,j,k] for k in range(num_shifts)) <= max_shifts_per_day)\n",
        "\n",
        "        model.maxshiftsperweek = ConstraintList()\n",
        "        for i in range(num_workers):\n",
        "          for j in range(num_week):\n",
        "            model.maxshiftsperday.add(expr = sum(model.x[i,j,k] for k in range(num_shifts)) <= max_shift_perweek)\n",
        "\n",
        "#Constraint: at least 5 shifts for each student employee\n",
        "        model.minshifts = ConstraintList()\n",
        "        for i in range(num_workers):\n",
        "          model.minshifts.add(expr = sum(model.x[i,j,k] for j in range(num_days) for k in range(num_shifts)) >= min_shifts_per_worker)\n",
        "\n",
        "#Constraint: at most 2 closing shifts per student employee\n",
        "        model.closingshifts = ConstraintList()\n",
        "        for i in range(num_workers):\n",
        "          model.closingshifts.add(expr = sum(model.x[i,j,k] for j in range(num_days) if k == 2) <= max_closing_shifts)\n",
        "\n",
        "        model.Objective = Objective(expr = sum(model.x[i,j,k] for i in range(num_workers) for j in range(num_days) for k in range(num_shifts)), sense = minimize)\n",
        "\n",
        "        #model.pprint()"
      ],
      "metadata": {
        "id": "pZkVLdAFwyfT"
      },
      "execution_count": null,
      "outputs": []
    },
    {
      "cell_type": "code",
      "source": [
        "print(f\"element at index {i}, {j}: {element}\")"
      ],
      "metadata": {
        "id": "k-s_GMssX6cS",
        "colab": {
          "base_uri": "https://localhost:8080/"
        },
        "outputId": "e03b2e50-9b6c-4371-fc43-e04b83b0e2fe"
      },
      "execution_count": null,
      "outputs": [
        {
          "output_type": "stream",
          "name": "stdout",
          "text": [
            "element at index 248, 0: 1.0\n"
          ]
        }
      ]
    },
    {
      "cell_type": "code",
      "source": [
        "#Solving by using GLPK solver\n",
        "opt = SolverFactory('glpk')\n",
        "opt.options['mipgap'] = 0\n",
        "results = opt.solve(model, tee=True)"
      ],
      "metadata": {
        "id": "8a32SMeWtemL",
        "colab": {
          "base_uri": "https://localhost:8080/"
        },
        "outputId": "f46cb612-f2a0-4a4e-9e11-4b5a58122414"
      },
      "execution_count": null,
      "outputs": [
        {
          "output_type": "stream",
          "name": "stdout",
          "text": [
            "GLPSOL: GLPK LP/MIP Solver, v4.65\n",
            "Parameter(s) specified in the command line:\n",
            " --mipgap 0 --write /tmp/tmpf1x_ygfv.glpk.raw --wglp /tmp/tmpgfp9xc4h.glpk.glp\n",
            " --cpxlp /tmp/tmpopcy8k20.pyomo.lp\n",
            "Reading problem data from '/tmp/tmpopcy8k20.pyomo.lp'...\n",
            "/tmp/tmpopcy8k20.pyomo.lp:36181: warning: lower bound of variable 'x1' redefined\n",
            "/tmp/tmpopcy8k20.pyomo.lp:36181: warning: upper bound of variable 'x1' redefined\n",
            "2512 rows, 5230 columns, 18178 non-zeros\n",
            "5229 integer variables, all of which are binary\n",
            "41410 lines were read\n",
            "Writing problem data to '/tmp/tmpgfp9xc4h.glpk.glp'...\n",
            "33665 lines were written\n",
            "GLPK Integer Optimizer, v4.65\n",
            "2512 rows, 5230 columns, 18178 non-zeros\n",
            "5229 integer variables, all of which are binary\n",
            "Preprocessing...\n",
            "2262 rows, 5229 columns, 17430 non-zeros\n",
            "5229 integer variables, all of which are binary\n",
            "Scaling...\n",
            " A: min|aij| =  1.000e+00  max|aij| =  1.000e+00  ratio =  1.000e+00\n",
            "Problem data seem to be well scaled\n",
            "Constructing initial basis...\n",
            "Size of triangular part is 2262\n",
            "Solving LP relaxation...\n",
            "GLPK Simplex Optimizer, v4.65\n",
            "2262 rows, 5229 columns, 17430 non-zeros\n",
            "      0: obj =   0.000000000e+00 inf =   1.335e+03 (270)\n",
            "Perturbing LP to avoid stalling [632]...\n",
            "   1075: obj =   7.470000000e+02 inf =   0.000e+00 (0)\n",
            "Removing LP perturbation [1399]...\n",
            "*  1399: obj =   7.470000000e+02 inf =   0.000e+00 (0) 1\n",
            "OPTIMAL LP SOLUTION FOUND\n",
            "Integer optimization begins...\n",
            "Long-step dual simplex will be used\n",
            "+  1399: mip =     not found yet >=              -inf        (1; 0)\n",
            "+  1399: >>>>>   7.470000000e+02 >=   7.470000000e+02   0.0% (1; 0)\n",
            "+  1399: mip =   7.470000000e+02 >=     tree is empty   0.0% (0; 1)\n",
            "INTEGER OPTIMAL SOLUTION FOUND\n",
            "Time used:   0.3 secs\n",
            "Memory used: 6.9 Mb (7275019 bytes)\n",
            "Writing MIP solution to '/tmp/tmpf1x_ygfv.glpk.raw'...\n",
            "7751 lines were written\n"
          ]
        }
      ]
    },
    {
      "cell_type": "code",
      "source": [
        "#printing out solution (with pandas)\n",
        "print(\"total number of shifts assigned:\", model.Objective())"
      ],
      "metadata": {
        "id": "c4MToK-otxWK",
        "colab": {
          "base_uri": "https://localhost:8080/"
        },
        "outputId": "6f254f37-7f84-4385-8eb0-e79cf0a5f3c6"
      },
      "execution_count": null,
      "outputs": [
        {
          "output_type": "stream",
          "name": "stdout",
          "text": [
            "total number of shifts assigned: 747.0\n"
          ]
        }
      ]
    },
    {
      "cell_type": "code",
      "source": [
        "schedule = [[[model.x[i,j,k]() for k in range(num_shifts)] for j in range(num_days)] for i in range(num_workers)]\n",
        "\n",
        "result = pd.DataFrame(schedule, index = [i for i in name_Cols], columns = [f\"day{i}\" for i in range(num_days)]) "
      ],
      "metadata": {
        "id": "R2Lr3N0it0ES"
      },
      "execution_count": null,
      "outputs": []
    },
    {
      "cell_type": "code",
      "source": [
        "# Converting array into string to get the schedule on excel file because excel is 2 dimensional\n",
        "def array_to_string(arr):\n",
        "    return ' '.join(str(x) for x in arr)\n",
        "\n",
        "\n",
        "result = result.applymap(array_to_string)\n",
        "result"
      ],
      "metadata": {
        "colab": {
          "base_uri": "https://localhost:8080/",
          "height": 424
        },
        "id": "0BEEzxxSTszU",
        "outputId": "0b445183-4fe1-4ed4-c5bf-0d58366d4e59"
      },
      "execution_count": null,
      "outputs": [
        {
          "output_type": "execute_result",
          "data": {
            "text/plain": [
              "                           day0         day1         day2         day3  \\\n",
              "Yap, Evelyn         1.0 0.0 0.0  0.0 0.0 0.0  0.0 0.0 0.0  1.0 0.0 0.0   \n",
              "Agosto, Milo        0.0 0.0 1.0  0.0 0.0 0.0  0.0 0.0 1.0  0.0 0.0 0.0   \n",
              "Frantz, Hailey      1.0 0.0 0.0  1.0 0.0 0.0  1.0 0.0 0.0  0.0 0.0 0.0   \n",
              "Higa, Everett       1.0 0.0 0.0  1.0 0.0 0.0  1.0 0.0 0.0  0.0 0.0 0.0   \n",
              "Colón, Mya          1.0 0.0 0.0  0.0 0.0 0.0  0.0 0.0 0.0  0.0 0.0 0.0   \n",
              "...                         ...          ...          ...          ...   \n",
              "Kathuria, Divij     1.0 0.0 0.0  1.0 0.0 0.0  0.0 0.0 0.0  0.0 0.0 0.0   \n",
              "Kashyap, Aishwarya  1.0 0.0 0.0  1.0 0.0 0.0  0.0 0.0 0.0  0.0 0.0 0.0   \n",
              "Zhao, Zixuan        1.0 0.0 0.0  1.0 0.0 0.0  0.0 0.0 0.0  0.0 0.0 0.0   \n",
              "Choong, Jing Wen    1.0 0.0 0.0  1.0 0.0 0.0  0.0 0.0 0.0  0.0 0.0 0.0   \n",
              "Munson, Lance       1.0 0.0 0.0  1.0 0.0 0.0  0.0 0.0 0.0  0.0 0.0 0.0   \n",
              "\n",
              "                           day4         day5         day6  \n",
              "Yap, Evelyn         1.0 0.0 0.0  0.0 0.0 0.0  0.0 0.0 0.0  \n",
              "Agosto, Milo        0.0 1.0 0.0  0.0 0.0 0.0  0.0 0.0 0.0  \n",
              "Frantz, Hailey      0.0 0.0 0.0  0.0 0.0 0.0  0.0 0.0 0.0  \n",
              "Higa, Everett       0.0 0.0 0.0  0.0 0.0 0.0  0.0 0.0 0.0  \n",
              "Colón, Mya          0.0 0.0 0.0  1.0 0.0 0.0  1.0 0.0 0.0  \n",
              "...                         ...          ...          ...  \n",
              "Kathuria, Divij     0.0 0.0 0.0  0.0 0.0 0.0  0.0 0.0 1.0  \n",
              "Kashyap, Aishwarya  0.0 0.0 0.0  0.0 0.0 0.0  0.0 0.0 1.0  \n",
              "Zhao, Zixuan        0.0 0.0 0.0  0.0 0.0 0.0  0.0 0.0 1.0  \n",
              "Choong, Jing Wen    0.0 0.0 0.0  0.0 0.0 0.0  0.0 0.0 1.0  \n",
              "Munson, Lance       0.0 0.0 0.0  0.0 0.0 0.0  0.0 0.0 1.0  \n",
              "\n",
              "[249 rows x 7 columns]"
            ],
            "text/html": [
              "\n",
              "  <div id=\"df-1a3c9c64-224c-438a-9661-5cc8881ed811\">\n",
              "    <div class=\"colab-df-container\">\n",
              "      <div>\n",
              "<style scoped>\n",
              "    .dataframe tbody tr th:only-of-type {\n",
              "        vertical-align: middle;\n",
              "    }\n",
              "\n",
              "    .dataframe tbody tr th {\n",
              "        vertical-align: top;\n",
              "    }\n",
              "\n",
              "    .dataframe thead th {\n",
              "        text-align: right;\n",
              "    }\n",
              "</style>\n",
              "<table border=\"1\" class=\"dataframe\">\n",
              "  <thead>\n",
              "    <tr style=\"text-align: right;\">\n",
              "      <th></th>\n",
              "      <th>day0</th>\n",
              "      <th>day1</th>\n",
              "      <th>day2</th>\n",
              "      <th>day3</th>\n",
              "      <th>day4</th>\n",
              "      <th>day5</th>\n",
              "      <th>day6</th>\n",
              "    </tr>\n",
              "  </thead>\n",
              "  <tbody>\n",
              "    <tr>\n",
              "      <th>Yap, Evelyn</th>\n",
              "      <td>1.0 0.0 0.0</td>\n",
              "      <td>0.0 0.0 0.0</td>\n",
              "      <td>0.0 0.0 0.0</td>\n",
              "      <td>1.0 0.0 0.0</td>\n",
              "      <td>1.0 0.0 0.0</td>\n",
              "      <td>0.0 0.0 0.0</td>\n",
              "      <td>0.0 0.0 0.0</td>\n",
              "    </tr>\n",
              "    <tr>\n",
              "      <th>Agosto, Milo</th>\n",
              "      <td>0.0 0.0 1.0</td>\n",
              "      <td>0.0 0.0 0.0</td>\n",
              "      <td>0.0 0.0 1.0</td>\n",
              "      <td>0.0 0.0 0.0</td>\n",
              "      <td>0.0 1.0 0.0</td>\n",
              "      <td>0.0 0.0 0.0</td>\n",
              "      <td>0.0 0.0 0.0</td>\n",
              "    </tr>\n",
              "    <tr>\n",
              "      <th>Frantz, Hailey</th>\n",
              "      <td>1.0 0.0 0.0</td>\n",
              "      <td>1.0 0.0 0.0</td>\n",
              "      <td>1.0 0.0 0.0</td>\n",
              "      <td>0.0 0.0 0.0</td>\n",
              "      <td>0.0 0.0 0.0</td>\n",
              "      <td>0.0 0.0 0.0</td>\n",
              "      <td>0.0 0.0 0.0</td>\n",
              "    </tr>\n",
              "    <tr>\n",
              "      <th>Higa, Everett</th>\n",
              "      <td>1.0 0.0 0.0</td>\n",
              "      <td>1.0 0.0 0.0</td>\n",
              "      <td>1.0 0.0 0.0</td>\n",
              "      <td>0.0 0.0 0.0</td>\n",
              "      <td>0.0 0.0 0.0</td>\n",
              "      <td>0.0 0.0 0.0</td>\n",
              "      <td>0.0 0.0 0.0</td>\n",
              "    </tr>\n",
              "    <tr>\n",
              "      <th>Colón, Mya</th>\n",
              "      <td>1.0 0.0 0.0</td>\n",
              "      <td>0.0 0.0 0.0</td>\n",
              "      <td>0.0 0.0 0.0</td>\n",
              "      <td>0.0 0.0 0.0</td>\n",
              "      <td>0.0 0.0 0.0</td>\n",
              "      <td>1.0 0.0 0.0</td>\n",
              "      <td>1.0 0.0 0.0</td>\n",
              "    </tr>\n",
              "    <tr>\n",
              "      <th>...</th>\n",
              "      <td>...</td>\n",
              "      <td>...</td>\n",
              "      <td>...</td>\n",
              "      <td>...</td>\n",
              "      <td>...</td>\n",
              "      <td>...</td>\n",
              "      <td>...</td>\n",
              "    </tr>\n",
              "    <tr>\n",
              "      <th>Kathuria, Divij</th>\n",
              "      <td>1.0 0.0 0.0</td>\n",
              "      <td>1.0 0.0 0.0</td>\n",
              "      <td>0.0 0.0 0.0</td>\n",
              "      <td>0.0 0.0 0.0</td>\n",
              "      <td>0.0 0.0 0.0</td>\n",
              "      <td>0.0 0.0 0.0</td>\n",
              "      <td>0.0 0.0 1.0</td>\n",
              "    </tr>\n",
              "    <tr>\n",
              "      <th>Kashyap, Aishwarya</th>\n",
              "      <td>1.0 0.0 0.0</td>\n",
              "      <td>1.0 0.0 0.0</td>\n",
              "      <td>0.0 0.0 0.0</td>\n",
              "      <td>0.0 0.0 0.0</td>\n",
              "      <td>0.0 0.0 0.0</td>\n",
              "      <td>0.0 0.0 0.0</td>\n",
              "      <td>0.0 0.0 1.0</td>\n",
              "    </tr>\n",
              "    <tr>\n",
              "      <th>Zhao, Zixuan</th>\n",
              "      <td>1.0 0.0 0.0</td>\n",
              "      <td>1.0 0.0 0.0</td>\n",
              "      <td>0.0 0.0 0.0</td>\n",
              "      <td>0.0 0.0 0.0</td>\n",
              "      <td>0.0 0.0 0.0</td>\n",
              "      <td>0.0 0.0 0.0</td>\n",
              "      <td>0.0 0.0 1.0</td>\n",
              "    </tr>\n",
              "    <tr>\n",
              "      <th>Choong, Jing Wen</th>\n",
              "      <td>1.0 0.0 0.0</td>\n",
              "      <td>1.0 0.0 0.0</td>\n",
              "      <td>0.0 0.0 0.0</td>\n",
              "      <td>0.0 0.0 0.0</td>\n",
              "      <td>0.0 0.0 0.0</td>\n",
              "      <td>0.0 0.0 0.0</td>\n",
              "      <td>0.0 0.0 1.0</td>\n",
              "    </tr>\n",
              "    <tr>\n",
              "      <th>Munson, Lance</th>\n",
              "      <td>1.0 0.0 0.0</td>\n",
              "      <td>1.0 0.0 0.0</td>\n",
              "      <td>0.0 0.0 0.0</td>\n",
              "      <td>0.0 0.0 0.0</td>\n",
              "      <td>0.0 0.0 0.0</td>\n",
              "      <td>0.0 0.0 0.0</td>\n",
              "      <td>0.0 0.0 1.0</td>\n",
              "    </tr>\n",
              "  </tbody>\n",
              "</table>\n",
              "<p>249 rows × 7 columns</p>\n",
              "</div>\n",
              "      <button class=\"colab-df-convert\" onclick=\"convertToInteractive('df-1a3c9c64-224c-438a-9661-5cc8881ed811')\"\n",
              "              title=\"Convert this dataframe to an interactive table.\"\n",
              "              style=\"display:none;\">\n",
              "        \n",
              "  <svg xmlns=\"http://www.w3.org/2000/svg\" height=\"24px\"viewBox=\"0 0 24 24\"\n",
              "       width=\"24px\">\n",
              "    <path d=\"M0 0h24v24H0V0z\" fill=\"none\"/>\n",
              "    <path d=\"M18.56 5.44l.94 2.06.94-2.06 2.06-.94-2.06-.94-.94-2.06-.94 2.06-2.06.94zm-11 1L8.5 8.5l.94-2.06 2.06-.94-2.06-.94L8.5 2.5l-.94 2.06-2.06.94zm10 10l.94 2.06.94-2.06 2.06-.94-2.06-.94-.94-2.06-.94 2.06-2.06.94z\"/><path d=\"M17.41 7.96l-1.37-1.37c-.4-.4-.92-.59-1.43-.59-.52 0-1.04.2-1.43.59L10.3 9.45l-7.72 7.72c-.78.78-.78 2.05 0 2.83L4 21.41c.39.39.9.59 1.41.59.51 0 1.02-.2 1.41-.59l7.78-7.78 2.81-2.81c.8-.78.8-2.07 0-2.86zM5.41 20L4 18.59l7.72-7.72 1.47 1.35L5.41 20z\"/>\n",
              "  </svg>\n",
              "      </button>\n",
              "      \n",
              "  <style>\n",
              "    .colab-df-container {\n",
              "      display:flex;\n",
              "      flex-wrap:wrap;\n",
              "      gap: 12px;\n",
              "    }\n",
              "\n",
              "    .colab-df-convert {\n",
              "      background-color: #E8F0FE;\n",
              "      border: none;\n",
              "      border-radius: 50%;\n",
              "      cursor: pointer;\n",
              "      display: none;\n",
              "      fill: #1967D2;\n",
              "      height: 32px;\n",
              "      padding: 0 0 0 0;\n",
              "      width: 32px;\n",
              "    }\n",
              "\n",
              "    .colab-df-convert:hover {\n",
              "      background-color: #E2EBFA;\n",
              "      box-shadow: 0px 1px 2px rgba(60, 64, 67, 0.3), 0px 1px 3px 1px rgba(60, 64, 67, 0.15);\n",
              "      fill: #174EA6;\n",
              "    }\n",
              "\n",
              "    [theme=dark] .colab-df-convert {\n",
              "      background-color: #3B4455;\n",
              "      fill: #D2E3FC;\n",
              "    }\n",
              "\n",
              "    [theme=dark] .colab-df-convert:hover {\n",
              "      background-color: #434B5C;\n",
              "      box-shadow: 0px 1px 3px 1px rgba(0, 0, 0, 0.15);\n",
              "      filter: drop-shadow(0px 1px 2px rgba(0, 0, 0, 0.3));\n",
              "      fill: #FFFFFF;\n",
              "    }\n",
              "  </style>\n",
              "\n",
              "      <script>\n",
              "        const buttonEl =\n",
              "          document.querySelector('#df-1a3c9c64-224c-438a-9661-5cc8881ed811 button.colab-df-convert');\n",
              "        buttonEl.style.display =\n",
              "          google.colab.kernel.accessAllowed ? 'block' : 'none';\n",
              "\n",
              "        async function convertToInteractive(key) {\n",
              "          const element = document.querySelector('#df-1a3c9c64-224c-438a-9661-5cc8881ed811');\n",
              "          const dataTable =\n",
              "            await google.colab.kernel.invokeFunction('convertToInteractive',\n",
              "                                                     [key], {});\n",
              "          if (!dataTable) return;\n",
              "\n",
              "          const docLinkHtml = 'Like what you see? Visit the ' +\n",
              "            '<a target=\"_blank\" href=https://colab.research.google.com/notebooks/data_table.ipynb>data table notebook</a>'\n",
              "            + ' to learn more about interactive tables.';\n",
              "          element.innerHTML = '';\n",
              "          dataTable['output_type'] = 'display_data';\n",
              "          await google.colab.output.renderOutput(dataTable, element);\n",
              "          const docLink = document.createElement('div');\n",
              "          docLink.innerHTML = docLinkHtml;\n",
              "          element.appendChild(docLink);\n",
              "        }\n",
              "      </script>\n",
              "    </div>\n",
              "  </div>\n",
              "  "
            ]
          },
          "metadata": {},
          "execution_count": 12
        }
      ]
    },
    {
      "cell_type": "code",
      "source": [
        "# saving the optimized schedule in a csv file\n",
        "result.to_csv('Final Schedule.csv', index=True)"
      ],
      "metadata": {
        "id": "dNZSfGjrTuwR"
      },
      "execution_count": null,
      "outputs": []
    }
  ],
  "metadata": {
    "kernelspec": {
      "display_name": "Python 3",
      "language": "python",
      "name": "python3"
    },
    "language_info": {
      "codemirror_mode": {
        "name": "ipython",
        "version": 3
      },
      "file_extension": ".py",
      "mimetype": "text/x-python",
      "name": "python",
      "nbconvert_exporter": "python",
      "pygments_lexer": "ipython3",
      "version": "3.8.8"
    },
    "colab": {
      "provenance": [],
      "collapsed_sections": [
        "OqOxPVZDquTm"
      ]
    }
  },
  "nbformat": 4,
  "nbformat_minor": 0
}